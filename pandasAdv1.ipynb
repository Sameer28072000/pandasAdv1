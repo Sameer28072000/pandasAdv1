{
 "cells": [
  {
   "cell_type": "markdown",
   "id": "e576b050-4a30-4874-9018-71f2ed92eec5",
   "metadata": {},
   "source": [
    "Q1. List any five functions of the pandas library with execution."
   ]
  },
  {
   "cell_type": "code",
   "execution_count": null,
   "id": "8cfd0e03-1a18-4701-b14e-46eb21d6942c",
   "metadata": {},
   "outputs": [],
   "source": [
    "Ans:- Five functions of the pandas library with execution:\n",
    "        i].head()\n",
    "          ii].tail()\n",
    "            iii].describe()\n",
    "              iv].info()\n",
    "                v].isnull().sum()\n",
    "                 vi].valuecounts()"
   ]
  },
  {
   "cell_type": "markdown",
   "id": "789cacba-3da8-4ab3-892c-04503c0ac811",
   "metadata": {},
   "source": [
    "Q2. Given a Pandas DataFrame df with columns 'A', 'B', and 'C', write a Python function to re-index the\n",
    "DataFrame with a new index that starts from 1 and increments by 2 for each row."
   ]
  },
  {
   "cell_type": "code",
   "execution_count": null,
   "id": "89e8721a-d184-4937-a635-beceef649726",
   "metadata": {},
   "outputs": [],
   "source": [
    "import pandas as pd\n",
    "\n",
    "def reindex_with_increment(df):\n",
    "    new_index = pd.RangeIndex(start=1, stop=len(df)*2, step=2)\n",
    "    df_reindexed = df.reset_index(drop=True)\n",
    "    df_reindexed.index = new_index\n",
    "    return df_reindexed\n",
    "    df_reindexed = reindex_with_increment(df)"
   ]
  },
  {
   "cell_type": "markdown",
   "id": "bc896d5d-83de-4b42-9daf-493a48492353",
   "metadata": {},
   "source": [
    "Q3. You have a Pandas DataFrame df with a column named 'Values'. Write a Python function that\n",
    "iterates over the DataFrame and calculates the sum of the first three values in the 'Values' column. The\n",
    "function should print the sum to the console."
   ]
  },
  {
   "cell_type": "code",
   "execution_count": 20,
   "id": "47295e97-8e92-47fb-b504-08cd9396f59b",
   "metadata": {},
   "outputs": [],
   "source": [
    "import pandas as pd\n",
    "\n",
    "def calculate_sum(df):\n",
    "    sum_values = 0\n",
    "    for index, row in df.iterrows():\n",
    "        sum_values += row['10','20','30','40','50','60']\n",
    "        if index == 2:  # Stop iterating after the third row\n",
    "            break\n",
    "    print(\"Sum of the first three values:\", sum_values)\n",
    "    calculate_sum(df)"
   ]
  },
  {
   "cell_type": "markdown",
   "id": "19141527-dfe5-4134-bd98-7e25cc6913a9",
   "metadata": {},
   "source": [
    "Q4. Given a Pandas DataFrame df with a column 'Text', write a Python function to create a new column\n",
    "'Word_Count' that contains the number of words in each row of the 'Text' column."
   ]
  },
  {
   "cell_type": "code",
   "execution_count": 18,
   "id": "d0c96563-fc90-4b4c-bf55-6f74094176b0",
   "metadata": {},
   "outputs": [],
   "source": [
    "import pandas as pd\n",
    "\n",
    "def add_word_count_column(df):\n",
    "    df['Word_Count'] = df['Text'].apply(lambda x: len(x.split()))\n",
    "    return df\n",
    "    df_with_word_count = add_word_count_column(df)"
   ]
  },
  {
   "cell_type": "markdown",
   "id": "b01a492c-f006-46f3-8a8d-ea3f5e671e16",
   "metadata": {},
   "source": [
    "Q5. How are DataFrame.size() and DataFrame.shape() different?"
   ]
  },
  {
   "cell_type": "code",
   "execution_count": null,
   "id": "46cc2098-9764-4f9b-b413-f0f8407291cf",
   "metadata": {},
   "outputs": [],
   "source": [
    "Ans:-DataFrame.size():\n",
    "      This attribute returns the total number of elements in the DataFrame. \n",
    "         It is calculated by multiplying the number of rows by the number of columns.\n",
    "       \n",
    "    DataFrame.shape():\n",
    "        This attribute returns a tuple that represents the dimensions of the DataFrame. The tuple contains two values\n",
    "           the number of rows & columns."
   ]
  },
  {
   "cell_type": "markdown",
   "id": "87a01c6f-ac5d-4d5c-8aa0-59d5a3a92e76",
   "metadata": {},
   "source": [
    "Q6. Which function of pandas do we use to read an excel file?"
   ]
  },
  {
   "cell_type": "code",
   "execution_count": null,
   "id": "260bc8e4-7bd0-4758-a14d-b534eb6557c9",
   "metadata": {},
   "outputs": [],
   "source": [
    "Ans:-The read_excel() function allows you to read data from an Excel file into a pandas DataFrame. "
   ]
  },
  {
   "cell_type": "markdown",
   "id": "f3acdc73-365b-4cd6-bbe3-1a075d78ccf2",
   "metadata": {},
   "source": [
    "Q7. You have a Pandas DataFrame df that contains a column named 'Email' that contains email\n",
    "addresses in the format 'username@domain.com'. Write a Python function that creates a new column\n",
    "'Username' in df that contains only the username part of each email address.\n",
    "The username is the part of the email address that appears before the '@' symbol. For example, if the\n",
    "email address is 'john.doe@example.com', the 'Username' column should contain 'john.doe'. Your\n",
    "function should extract the username from each email address and store it in the new 'Username'\n",
    "column."
   ]
  },
  {
   "cell_type": "code",
   "execution_count": 21,
   "id": "15c5e162-e401-428e-9944-01c1aa7cd300",
   "metadata": {},
   "outputs": [],
   "source": [
    "import pandas as pd\n",
    "\n",
    "def extract_username(df):\n",
    "    df['Username'] = df['Email'].str.split('@').str[0]\n",
    "    return df"
   ]
  },
  {
   "cell_type": "markdown",
   "id": "896b070b-2f8d-42fa-a0fc-ef3be5afb39f",
   "metadata": {},
   "source": [
    "Q8. You have a Pandas DataFrame df with columns 'A', 'B', and 'C'. Write a Python function that selects\n",
    "all rows where the value in column 'A' is greater than 5 and the value in column 'B' is less than 10. The\n",
    "function should return a new DataFrame that contains only the selected rows.\n",
    "For example, if df contains the following values:\n",
    "A B C\n",
    "0 3 5 1\n",
    "1 8 2 7\n",
    "2 6 9 4\n",
    "3 2 3 5\n",
    "4 9 1 2\n",
    "\n",
    "Your function should select the following rows: A B C\n",
    "1 8 2 7\n",
    "4 9 1 2\n",
    "The function should return a new DataFrame that contains only the selected rows."
   ]
  },
  {
   "cell_type": "code",
   "execution_count": 22,
   "id": "49b442f4-9157-47d6-89ec-338801219fc0",
   "metadata": {},
   "outputs": [],
   "source": [
    "import pandas as pd\n",
    "\n",
    "def select_rows(df):\n",
    "    selected_rows = df[(df['A'] > 5) & (df['B'] < 10)]\n",
    "    return selected_rows"
   ]
  },
  {
   "cell_type": "markdown",
   "id": "8b8d8a01-0f32-4911-a7ef-e4746ed18f3e",
   "metadata": {},
   "source": [
    "Q9. Given a Pandas DataFrame df with a column 'Values', write a Python function to calculate the mean,\n",
    "median, and standard deviation of the values in the 'Values' column."
   ]
  },
  {
   "cell_type": "code",
   "execution_count": 23,
   "id": "d89fa2cd-5f2f-4466-9e8e-af7d253ad489",
   "metadata": {},
   "outputs": [],
   "source": [
    "import pandas as pd\n",
    "\n",
    "def calculate_statistics(df):\n",
    "    mean_value = df['Values'].mean()\n",
    "    median_value = df['Values'].median()\n",
    "    std_value = df['Values'].std()\n",
    "    return mean_value, median_value, std_value"
   ]
  },
  {
   "cell_type": "markdown",
   "id": "d8431485-793e-4aa8-8d06-5b3146680ec1",
   "metadata": {},
   "source": [
    "Q10. Given a Pandas DataFrame df with a column 'Sales' and a column 'Date', write a Python function to\n",
    "create a new column 'MovingAverage' that contains the moving average of the sales for the past 7 days\n",
    "for each row in the DataFrame. The moving average should be calculated using a window of size 7 and\n",
    "should include the current day."
   ]
  },
  {
   "cell_type": "code",
   "execution_count": 24,
   "id": "c052e471-b5b1-46ea-b02f-30d5dfde771a",
   "metadata": {},
   "outputs": [],
   "source": [
    "import pandas as pd\n",
    "\n",
    "def calculate_moving_average(df):\n",
    "    df['MovingAverage'] = df['Sales'].rolling(window=7, min_periods=1).mean()\n",
    "    return df"
   ]
  },
  {
   "cell_type": "markdown",
   "id": "53b873da-43bc-4ba6-9386-5af040c64be1",
   "metadata": {},
   "source": [
    "Q11. You have a Pandas DataFrame df with a column 'Date'. Write a Python function that creates a new\n",
    "column 'Weekday' in the DataFrame. The 'Weekday' column should contain the weekday name (e.g.\n",
    "Monday, Tuesday) corresponding to each date in the 'Date' column."
   ]
  },
  {
   "cell_type": "code",
   "execution_count": 25,
   "id": "159f41f0-a9c8-460f-9e2e-e82d2251cd92",
   "metadata": {},
   "outputs": [],
   "source": [
    "import pandas as pd\n",
    "\n",
    "def add_weekday_column(df):\n",
    "    df['Weekday'] = df['Date'].dt.strftime('%A')\n",
    "    return df"
   ]
  },
  {
   "cell_type": "markdown",
   "id": "365d4fee-65c2-4db0-b0b1-916ce8e7be07",
   "metadata": {},
   "source": [
    "Q12. Given a Pandas DataFrame df with a column 'Date' that contains timestamps, write a Python\n",
    "function to select all rows where the date is between '2023-01-01' and '2023-01-31'."
   ]
  },
  {
   "cell_type": "code",
   "execution_count": 26,
   "id": "88291282-28ad-477e-b8db-0895c16386a8",
   "metadata": {},
   "outputs": [],
   "source": [
    "import pandas as pd\n",
    "\n",
    "def select_date_range(df):\n",
    "    start_date = '2023-01-01'\n",
    "    end_date = '2023-01-31'\n",
    "    mask = (df['Date'] >= start_date) & (df['Date'] <= end_date)\n",
    "    selected_rows = df[mask]\n",
    "    return selected_rows"
   ]
  },
  {
   "cell_type": "markdown",
   "id": "f3b8f7b7-3076-4f24-8335-18c95e384c42",
   "metadata": {},
   "source": [
    "Q13. To use the basic functions of pandas, what is the first and foremost necessary library that needs to\n",
    "be imported?"
   ]
  },
  {
   "cell_type": "code",
   "execution_count": null,
   "id": "a4df20d5-2484-47a0-a036-7a613b6a1e8a",
   "metadata": {},
   "outputs": [],
   "source": [
    "Ans:-The first and foremost library that needs to be imported to use\n",
    "        the basic functions of pandas is the pandas library itself.\n",
    "    pd is commonly used as an alias for the pandas."
   ]
  }
 ],
 "metadata": {
  "kernelspec": {
   "display_name": "Python 3 (ipykernel)",
   "language": "python",
   "name": "python3"
  },
  "language_info": {
   "codemirror_mode": {
    "name": "ipython",
    "version": 3
   },
   "file_extension": ".py",
   "mimetype": "text/x-python",
   "name": "python",
   "nbconvert_exporter": "python",
   "pygments_lexer": "ipython3",
   "version": "3.10.8"
  }
 },
 "nbformat": 4,
 "nbformat_minor": 5
}
